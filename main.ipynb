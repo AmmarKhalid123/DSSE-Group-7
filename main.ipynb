{
  "nbformat": 4,
  "nbformat_minor": 0,
  "metadata": {
    "colab": {
      "provenance": [],
      "include_colab_link": true
    },
    "kernelspec": {
      "name": "python3",
      "display_name": "Python 3"
    },
    "language_info": {
      "name": "python"
    }
  },
  "cells": [
    {
      "cell_type": "markdown",
      "metadata": {
        "id": "view-in-github",
        "colab_type": "text"
      },
      "source": [
        "<a href=\"https://colab.research.google.com/github/AmmarKhalid123/DSSE-Group-7/blob/main/main.ipynb\" target=\"_parent\"><img src=\"https://colab.research.google.com/assets/colab-badge.svg\" alt=\"Open In Colab\"/></a>"
      ]
    },
    {
      "cell_type": "code",
      "execution_count": 8,
      "metadata": {
        "colab": {
          "base_uri": "https://localhost:8080/"
        },
        "id": "iCkb5am9Kd0-",
        "outputId": "92c0c4de-70e2-4034-e92c-e7c9543afb89"
      },
      "outputs": [
        {
          "output_type": "stream",
          "name": "stdout",
          "text": [
            "Requirement already satisfied: pydriller in /usr/local/lib/python3.10/dist-packages (2.6)\n",
            "Requirement already satisfied: gitpython in /usr/local/lib/python3.10/dist-packages (from pydriller) (3.1.43)\n",
            "Requirement already satisfied: pytz in /usr/local/lib/python3.10/dist-packages (from pydriller) (2023.4)\n",
            "Requirement already satisfied: types-pytz in /usr/local/lib/python3.10/dist-packages (from pydriller) (2024.1.0.20240203)\n",
            "Requirement already satisfied: lizard in /usr/local/lib/python3.10/dist-packages (from pydriller) (1.17.10)\n",
            "Requirement already satisfied: gitdb<5,>=4.0.1 in /usr/local/lib/python3.10/dist-packages (from gitpython->pydriller) (4.0.11)\n",
            "Requirement already satisfied: smmap<6,>=3.0.1 in /usr/local/lib/python3.10/dist-packages (from gitdb<5,>=4.0.1->gitpython->pydriller) (5.0.1)\n",
            "Requirement already satisfied: pandas in /usr/local/lib/python3.10/dist-packages (2.0.3)\n",
            "Requirement already satisfied: python-dateutil>=2.8.2 in /usr/local/lib/python3.10/dist-packages (from pandas) (2.8.2)\n",
            "Requirement already satisfied: pytz>=2020.1 in /usr/local/lib/python3.10/dist-packages (from pandas) (2023.4)\n",
            "Requirement already satisfied: tzdata>=2022.1 in /usr/local/lib/python3.10/dist-packages (from pandas) (2024.1)\n",
            "Requirement already satisfied: numpy>=1.21.0 in /usr/local/lib/python3.10/dist-packages (from pandas) (1.25.2)\n",
            "Requirement already satisfied: six>=1.5 in /usr/local/lib/python3.10/dist-packages (from python-dateutil>=2.8.2->pandas) (1.16.0)\n"
          ]
        }
      ],
      "source": [
        "!pip install pydriller\n",
        "!pip install pandas"
      ]
    },
    {
      "cell_type": "code",
      "source": [
        "from pydriller import Repository\n",
        "import pandas as pd\n",
        "import requests"
      ],
      "metadata": {
        "id": "a2VRB8JTRxp1"
      },
      "execution_count": 10,
      "outputs": []
    },
    {
      "cell_type": "code",
      "source": [
        "excel_url = 'https://github.com/AmmarKhalid123/DSSE-Group-7/raw/main/Issues_assignment1.xlsx'\n",
        "myfile = requests.get(excel_url)\n",
        "\n",
        "df=pd.read_excel(myfile.content, 'Group7')\n",
        "\n",
        "issue_ids = df['Key'].tolist()\n",
        "issue_commits = {}\n",
        "source_code_url = 'https://github.com/yarnpkg/yarn'\n",
        "for issue_id in issue_ids:\n",
        "    commits = []\n",
        "\n",
        "    for commit in Repository(source_code_url).traverse_commits():\n",
        "        if issue_id in commit.msg:\n",
        "            commits.append(commit)\n",
        "\n",
        "    issue_commits[issue_id] = commits\n",
        "\n",
        "for issue_id, commits in issue_commits.items():\n",
        "    print(f\"Issue ID: {issue_id}\")\n",
        "    for commit in commits:\n",
        "        print(f\"Commit: {commit.hash} - {commit.msg}\")\n",
        "        for parent in commit.parents:\n",
        "            print(f\"Parent Commit: {parent.hash} - {parent.msg}\")\n"
      ],
      "metadata": {
        "id": "IkGIMIyoLIOO"
      },
      "execution_count": null,
      "outputs": []
    },
    {
      "cell_type": "code",
      "source": [],
      "metadata": {
        "id": "B97IHeMETSo-"
      },
      "execution_count": null,
      "outputs": []
    }
  ]
}