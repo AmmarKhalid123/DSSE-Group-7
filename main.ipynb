{
  "cells": [
    {
      "cell_type": "markdown",
      "metadata": {
        "id": "view-in-github",
        "colab_type": "text"
      },
      "source": [
        "<a href=\"https://colab.research.google.com/github/AmmarKhalid123/DSSE-Group-7/blob/main/main.ipynb\" target=\"_parent\"><img src=\"https://colab.research.google.com/assets/colab-badge.svg\" alt=\"Open In Colab\"/></a>"
      ]
    },
    {
      "cell_type": "code",
      "execution_count": 2,
      "metadata": {
        "colab": {
          "base_uri": "https://localhost:8080/"
        },
        "id": "iCkb5am9Kd0-",
        "outputId": "48041aa7-f027-4b29-ea83-5498cc71dbfe"
      },
      "outputs": [
        {
          "output_type": "stream",
          "name": "stdout",
          "text": [
            "Collecting pydriller\n",
            "  Downloading PyDriller-2.6-py3-none-any.whl (33 kB)\n",
            "Collecting gitpython (from pydriller)\n",
            "  Downloading GitPython-3.1.43-py3-none-any.whl (207 kB)\n",
            "\u001b[?25l     \u001b[90m━━━━━━━━━━━━━━━━━━━━━━━━━━━━━━━━━━━━━━━━\u001b[0m \u001b[32m0.0/207.3 kB\u001b[0m \u001b[31m?\u001b[0m eta \u001b[36m-:--:--\u001b[0m\r\u001b[2K     \u001b[90m━━━━━━━━━━━━━━━━━━━━━━━━━━━━━━━━━━━━━━━━\u001b[0m \u001b[32m207.3/207.3 kB\u001b[0m \u001b[31m9.6 MB/s\u001b[0m eta \u001b[36m0:00:00\u001b[0m\n",
            "\u001b[?25hRequirement already satisfied: pytz in /usr/local/lib/python3.10/dist-packages (from pydriller) (2023.4)\n",
            "Requirement already satisfied: types-pytz in /usr/local/lib/python3.10/dist-packages (from pydriller) (2024.1.0.20240417)\n",
            "Collecting lizard (from pydriller)\n",
            "  Downloading lizard-1.17.10-py2.py3-none-any.whl (66 kB)\n",
            "\u001b[2K     \u001b[90m━━━━━━━━━━━━━━━━━━━━━━━━━━━━━━━━━━━━━━━━\u001b[0m \u001b[32m66.0/66.0 kB\u001b[0m \u001b[31m9.0 MB/s\u001b[0m eta \u001b[36m0:00:00\u001b[0m\n",
            "\u001b[?25hCollecting gitdb<5,>=4.0.1 (from gitpython->pydriller)\n",
            "  Downloading gitdb-4.0.11-py3-none-any.whl (62 kB)\n",
            "\u001b[2K     \u001b[90m━━━━━━━━━━━━━━━━━━━━━━━━━━━━━━━━━━━━━━━━\u001b[0m \u001b[32m62.7/62.7 kB\u001b[0m \u001b[31m7.4 MB/s\u001b[0m eta \u001b[36m0:00:00\u001b[0m\n",
            "\u001b[?25hCollecting smmap<6,>=3.0.1 (from gitdb<5,>=4.0.1->gitpython->pydriller)\n",
            "  Downloading smmap-5.0.1-py3-none-any.whl (24 kB)\n",
            "Installing collected packages: lizard, smmap, gitdb, gitpython, pydriller\n",
            "Successfully installed gitdb-4.0.11 gitpython-3.1.43 lizard-1.17.10 pydriller-2.6 smmap-5.0.1\n",
            "Requirement already satisfied: pandas in /usr/local/lib/python3.10/dist-packages (2.0.3)\n",
            "Requirement already satisfied: python-dateutil>=2.8.2 in /usr/local/lib/python3.10/dist-packages (from pandas) (2.8.2)\n",
            "Requirement already satisfied: pytz>=2020.1 in /usr/local/lib/python3.10/dist-packages (from pandas) (2023.4)\n",
            "Requirement already satisfied: tzdata>=2022.1 in /usr/local/lib/python3.10/dist-packages (from pandas) (2024.1)\n",
            "Requirement already satisfied: numpy>=1.21.0 in /usr/local/lib/python3.10/dist-packages (from pandas) (1.25.2)\n",
            "Requirement already satisfied: six>=1.5 in /usr/local/lib/python3.10/dist-packages (from python-dateutil>=2.8.2->pandas) (1.16.0)\n"
          ]
        }
      ],
      "source": [
        "!pip install pydriller\n",
        "!pip install pandas"
      ]
    },
    {
      "cell_type": "code",
      "execution_count": 3,
      "metadata": {
        "id": "a2VRB8JTRxp1"
      },
      "outputs": [],
      "source": [
        "from pydriller import Repository\n",
        "import pandas as pd\n",
        "import requests"
      ]
    },
    {
      "cell_type": "code",
      "execution_count": 4,
      "metadata": {
        "id": "p2PtGGgjnS9B"
      },
      "outputs": [],
      "source": [
        "excel_url = 'https://github.com/AmmarKhalid123/DSSE-Group-7/raw/main/Issues_assignment1.xlsx'\n",
        "source_code_url = 'https://github.com/apache/hadoop'"
      ]
    },
    {
      "cell_type": "code",
      "execution_count": 5,
      "metadata": {
        "id": "icXq1692pCzw"
      },
      "outputs": [],
      "source": [
        "def get_commits_for_issues(issues, repo_url):\n",
        "  issue_commits = {}\n",
        "  for issue in issues:\n",
        "    commits = []\n",
        "\n",
        "    for commit in Repository(repo_url).traverse_commits():\n",
        "      if issue in commit.msg:\n",
        "        commits.append(commit)\n",
        "\n",
        "    issue_commits[issue] = commits\n",
        "  return issue_commits\n",
        "\n",
        "def get_commit_from_hash(hash, repo_url):\n",
        "  commit = list(Repository(repo_url, single=hash).traverse_commits())\n",
        "  return commit[0]"
      ]
    },
    {
      "cell_type": "code",
      "execution_count": null,
      "metadata": {
        "id": "IkGIMIyoLIOO"
      },
      "outputs": [],
      "source": [
        "myfile = requests.get(excel_url)\n",
        "\n",
        "df=pd.read_excel(myfile.content, 'Group7')\n",
        "\n",
        "issue_ids = df['Key'].tolist()\n",
        "issue_commits = get_commits_for_issues(issue_ids, source_code_url)\n",
        "\n",
        "for issue_id, commits in issue_commits.items():\n",
        "  print(f\"Issue ID: {issue_id}\")\n",
        "  for commit in commits:\n",
        "    print(f\"Commit: {commit.hash} - {commit.msg}\")\n",
        "    for parent in commit.parents:\n",
        "      parent_commit = get_commit_from_hash(parent, source_code_url)\n",
        "      print(f\"Parent Commit: {parent_commit.hash} - {parent_commit.msg}\")\n"
      ]
    },
    {
      "cell_type": "code",
      "execution_count": null,
      "metadata": {
        "id": "B97IHeMETSo-"
      },
      "outputs": [],
      "source": []
    }
  ],
  "metadata": {
    "colab": {
      "provenance": [],
      "include_colab_link": true
    },
    "kernelspec": {
      "display_name": "Python 3",
      "name": "python3"
    },
    "language_info": {
      "name": "python"
    }
  },
  "nbformat": 4,
  "nbformat_minor": 0
}