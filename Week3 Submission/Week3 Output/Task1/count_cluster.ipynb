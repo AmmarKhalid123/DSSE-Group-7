{
 "cells": [
  {
   "cell_type": "code",
   "execution_count": 1,
   "metadata": {},
   "outputs": [],
   "source": [
    "import pandas as pd\n",
    "import os\n",
    "import glob\n",
    "import zipfile"
   ]
  },
  {
   "cell_type": "code",
   "execution_count": 2,
   "metadata": {},
   "outputs": [],
   "source": [
    "W3_1_OUTPUT_EXCEL_FILE = 'Week3_1_cluster_count.csv'\n",
    "COMMIT_HASHES = 'E:\\DSSE\\Assignment_1\\Assignment_1_Common\\Week3\\parent_child_mapping.csv'\n",
    "\n",
    "# Read the commit hashes\n",
    "commit_hashes = pd.read_csv(COMMIT_HASHES)\n",
    "commit_hashes = commit_hashes['commit_hash'].tolist()\n",
    "\n",
    "w3_1_df = pd.DataFrame({\n",
    "    'commit_hash': commit_hashes,\n",
    "    'PKG': 'NA',\n",
    "    'ACDC': 'NA',\n",
    "    'WCA': 'NA',\n",
    "    'WCA higher': 'NA',\n",
    "    'LIMBO': 'NA',\n",
    "    'LIMBO higher': 'NA'\n",
    "})"
   ]
  },
  {
   "cell_type": "code",
   "execution_count": 3,
   "metadata": {},
   "outputs": [],
   "source": [
    "#PKG\n",
    "PKG_FOLDER = 'E:\\DSSE\\Assignment_1\\Assignment_1_Common\\Week3\\PKG_output\\original_PKG'\n",
    "\n",
    "pkg_files = glob.glob(os.path.join(PKG_FOLDER, '**', '*.rsf'))\n",
    "pkg_data = dict()\n",
    "\n",
    "for file in pkg_files:\n",
    "    splitted_path = file.split('\\\\')\n",
    "    commit_hash = splitted_path[-2]\n",
    "    clusters = splitted_path[-1].split('_')[-2]\n",
    "    pkg_data[commit_hash] = clusters\n",
    "\n",
    "# pkg_data\n",
    "for index, row in w3_1_df.iterrows():\n",
    "    commit_hash = row['commit_hash']\n",
    "    if commit_hash in pkg_data:\n",
    "        w3_1_df.at[index, 'PKG'] = pkg_data[commit_hash]"
   ]
  },
  {
   "cell_type": "code",
   "execution_count": 4,
   "metadata": {},
   "outputs": [],
   "source": [
    "# for PKG and ACDC\n",
    "from collections import defaultdict\n",
    "def get_clusters(file):\n",
    "    clusters = defaultdict(list)\n",
    "    with open(file, 'r') as f:\n",
    "        lines = f.readlines()\n",
    "        for line in lines:\n",
    "            data = line.split(' ')\n",
    "            clusters[data[1]].append(data[2])\n",
    "    return clusters\n"
   ]
  },
  {
   "cell_type": "code",
   "execution_count": 5,
   "metadata": {},
   "outputs": [],
   "source": [
    "#ACDC\n",
    "ACDC_FOLDER = 'E:\\DSSE\\Assignment_1\\Assignment_1_Common\\Week3\\ACDC_output\\original ACDC'\n",
    "\n",
    "acdc_files = glob.glob(os.path.join(ACDC_FOLDER, '**', '*ACDC.rsf'))\n",
    "acdc_data = dict()\n",
    "\n",
    "for file in acdc_files:\n",
    "    splitted_path = file.split('\\\\')\n",
    "    commit_hash = splitted_path[-2]\n",
    "    clusters = get_clusters(file)\n",
    "    acdc_data[commit_hash] = clusters\n",
    "\n",
    "# acdc_data\n",
    "for index, row in w3_1_df.iterrows():\n",
    "    commit_hash = row['commit_hash']\n",
    "    if commit_hash in acdc_data:\n",
    "        w3_1_df.at[index, 'ACDC'] = len(acdc_data[commit_hash])"
   ]
  },
  {
   "cell_type": "code",
   "execution_count": 6,
   "metadata": {},
   "outputs": [],
   "source": [
    "#WCA\n",
    "WCA_FOLDER = 'E:\\DSSE\\Assignment_1\\Assignment_1_Common\\WCA_LIMBO\\WCA_Original\\WCA_Original'\n",
    "\n",
    "wca_files = glob.glob(os.path.join(WCA_FOLDER, '**', '*clusters.rsf'), recursive=True)\n",
    "\n",
    "wca_data = dict()\n",
    "\n",
    "for file in wca_files:\n",
    "    splitted_path = file.split('\\\\')\n",
    "    commit_hash = splitted_path[-4]\n",
    "    clusters = splitted_path[-1].split('_')[-2]\n",
    "    wca_data[commit_hash] = clusters\n",
    "\n",
    "# wca_data\n",
    "for index, row in w3_1_df.iterrows():\n",
    "    commit_hash = row['commit_hash']\n",
    "    if commit_hash in wca_data:\n",
    "        w3_1_df.at[index, 'WCA'] = wca_data[commit_hash]"
   ]
  },
  {
   "cell_type": "code",
   "execution_count": 7,
   "metadata": {},
   "outputs": [],
   "source": [
    "#WCA Higher\n",
    "WCA_HIGHER_FOLDER = 'E:\\DSSE\\Assignment_1\\Assignment_1_Common\\WCA_LIMBO\\WCA_LIMBO_higher\\original_rsf_58'\n",
    "\n",
    "wca_higher_files = glob.glob(os.path.join(WCA_HIGHER_FOLDER, '**', '*UEM*clusters.rsf'), recursive=True)\n",
    "\n",
    "wca_higher_data = dict()\n",
    "\n",
    "for file in wca_higher_files:\n",
    "    splitted_path = file.split('\\\\')\n",
    "    commit_hash = splitted_path[-4]\n",
    "    clusters = splitted_path[-1].split('_')[-2]\n",
    "    wca_higher_data[commit_hash] = clusters\n",
    "\n",
    "# wca_higher_data\n",
    "for index, row in w3_1_df.iterrows():\n",
    "    commit_hash = row['commit_hash']\n",
    "    if commit_hash in wca_higher_data:\n",
    "        w3_1_df.at[index, 'WCA higher'] = wca_higher_data[commit_hash]"
   ]
  },
  {
   "cell_type": "code",
   "execution_count": 8,
   "metadata": {},
   "outputs": [],
   "source": [
    "#LIMBO\n",
    "LIMBO_FOLDER = 'E:\\DSSE\\Assignment_1\\Assignment_1_Common\\WCA_LIMBO\\Original Limbo\\original_rsf'\n",
    "\n",
    "limbo_files = glob.glob(os.path.join(LIMBO_FOLDER, '**', '*clusters.rsf'), recursive=True)\n",
    "\n",
    "limbo_data = dict()\n",
    "\n",
    "for file in limbo_files:\n",
    "    splitted_path = file.split('\\\\')\n",
    "    commit_hash = splitted_path[-4]\n",
    "    clusters = splitted_path[-1].split('_')[-2]\n",
    "    limbo_data[commit_hash] = clusters\n",
    "\n",
    "# limbo_data\n",
    "for index, row in w3_1_df.iterrows():\n",
    "    commit_hash = row['commit_hash']\n",
    "    if commit_hash in limbo_data:\n",
    "        w3_1_df.at[index, 'LIMBO'] = limbo_data[commit_hash]"
   ]
  },
  {
   "cell_type": "code",
   "execution_count": 9,
   "metadata": {},
   "outputs": [],
   "source": [
    "#LIMBO Higher\n",
    "LIMBO_HIGHER_FOLDER = 'E:\\DSSE\\Assignment_1\\Assignment_1_Common\\WCA_LIMBO\\WCA_LIMBO_higher\\original_rsf_58'\n",
    "\n",
    "limbo_higher_files = glob.glob(os.path.join(LIMBO_HIGHER_FOLDER, '**', '*IL*clusters.rsf'), recursive=True)\n",
    "\n",
    "limbo_higher_data = dict()\n",
    "\n",
    "for file in limbo_higher_files:\n",
    "    splitted_path = file.split('\\\\')\n",
    "    commit_hash = splitted_path[-4]\n",
    "    clusters = splitted_path[-1].split('_')[-2]\n",
    "    limbo_higher_data[commit_hash] = clusters\n",
    "\n",
    "# limbo_higher_data\n",
    "for index, row in w3_1_df.iterrows():\n",
    "    commit_hash = row['commit_hash']\n",
    "    if commit_hash in limbo_higher_data:\n",
    "        w3_1_df.at[index, 'LIMBO higher'] = limbo_higher_data[commit_hash]"
   ]
  },
  {
   "cell_type": "code",
   "execution_count": 10,
   "metadata": {},
   "outputs": [],
   "source": [
    "# Save the output\n",
    "w3_1_df.to_csv(W3_1_OUTPUT_EXCEL_FILE, index=False)"
   ]
  }
 ],
 "metadata": {
  "kernelspec": {
   "display_name": ".venv",
   "language": "python",
   "name": "python3"
  },
  "language_info": {
   "codemirror_mode": {
    "name": "ipython",
    "version": 3
   },
   "file_extension": ".py",
   "mimetype": "text/x-python",
   "name": "python",
   "nbconvert_exporter": "python",
   "pygments_lexer": "ipython3",
   "version": "3.10.11"
  }
 },
 "nbformat": 4,
 "nbformat_minor": 2
}
