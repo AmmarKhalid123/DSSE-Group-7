{
 "cells": [
  {
   "cell_type": "code",
   "execution_count": 1,
   "metadata": {},
   "outputs": [],
   "source": [
    "import pandas as pd\n",
    "import json\n",
    "import os"
   ]
  },
  {
   "cell_type": "code",
   "execution_count": 3,
   "metadata": {},
   "outputs": [],
   "source": [
    "data = json.load(open('step3_result.json'))"
   ]
  },
  {
   "cell_type": "code",
   "execution_count": 4,
   "metadata": {},
   "outputs": [],
   "source": [
    "rows = []\n",
    "for issue, commits in data.items():\n",
    "    for commit in commits:\n",
    "        for file in commit['files']:\n",
    "            if file['added_lines'] + file['deleted_lines'] + file['added_methods'] + file['deleted_method'] + file['modified_methods'] == 0:\n",
    "                continue\n",
    "            row = {\n",
    "                'issue': issue,\n",
    "                'commit_hash': commit['commit_hash'],\n",
    "                'dmm_unit_size': commit['dmm_metrics']['dmm_unit_size'],\n",
    "                'dmm_unit_complexity': commit['dmm_metrics']['dmm_unit_complexity'],\n",
    "                'dmm_unit_interfacing': commit['dmm_metrics']['dmm_unit_interfacing'],\n",
    "                'added_lines': file['added_lines'],\n",
    "                'deleted_lines': file['deleted_lines'],\n",
    "                'added_methods': file['added_methods'],\n",
    "                'deleted_method': file['deleted_method'],\n",
    "                'modified_methods': file['modified_methods'],\n",
    "                'complexity': file['complexity'] if file['complexity'] else 0,\n",
    "                'filename': os.path.basename(file['filename'])\n",
    "            }\n",
    "            rows.append(row)"
   ]
  },
  {
   "cell_type": "code",
   "execution_count": 5,
   "metadata": {},
   "outputs": [],
   "source": [
    "df = pd.DataFrame(rows)"
   ]
  },
  {
   "cell_type": "code",
   "execution_count": 7,
   "metadata": {},
   "outputs": [
    {
     "data": {
      "text/html": [
       "<div>\n",
       "<style scoped>\n",
       "    .dataframe tbody tr th:only-of-type {\n",
       "        vertical-align: middle;\n",
       "    }\n",
       "\n",
       "    .dataframe tbody tr th {\n",
       "        vertical-align: top;\n",
       "    }\n",
       "\n",
       "    .dataframe thead th {\n",
       "        text-align: right;\n",
       "    }\n",
       "</style>\n",
       "<table border=\"1\" class=\"dataframe\">\n",
       "  <thead>\n",
       "    <tr style=\"text-align: right;\">\n",
       "      <th></th>\n",
       "      <th>Key</th>\n",
       "      <th>Classes</th>\n",
       "      <th>Existence</th>\n",
       "      <th>Property</th>\n",
       "      <th>Executive</th>\n",
       "    </tr>\n",
       "  </thead>\n",
       "  <tbody>\n",
       "    <tr>\n",
       "      <th>0</th>\n",
       "      <td>HADOOP-7206</td>\n",
       "      <td>False False True</td>\n",
       "      <td>None</td>\n",
       "      <td>None</td>\n",
       "      <td>Executive</td>\n",
       "    </tr>\n",
       "    <tr>\n",
       "      <th>1</th>\n",
       "      <td>HADOOP-7144</td>\n",
       "      <td>False False True</td>\n",
       "      <td>None</td>\n",
       "      <td>None</td>\n",
       "      <td>Executive</td>\n",
       "    </tr>\n",
       "    <tr>\n",
       "      <th>2</th>\n",
       "      <td>HADOOP-7109</td>\n",
       "      <td>False False True</td>\n",
       "      <td>None</td>\n",
       "      <td>None</td>\n",
       "      <td>Executive</td>\n",
       "    </tr>\n",
       "  </tbody>\n",
       "</table>\n",
       "</div>"
      ],
      "text/plain": [
       "           Key           Classes Existence Property  Executive\n",
       "0  HADOOP-7206  False False True      None     None  Executive\n",
       "1  HADOOP-7144  False False True      None     None  Executive\n",
       "2  HADOOP-7109  False False True      None     None  Executive"
      ]
     },
     "execution_count": 7,
     "metadata": {},
     "output_type": "execute_result"
    }
   ],
   "source": [
    "\"\"\"\n",
    "original_excel_df:\n",
    "Key\tClasses\n",
    "YARN-5561\tFalse False True\n",
    "\"\"\"\n",
    "\n",
    "original_excel_df = pd.read_excel('Issues_assignment1.xlsx', sheet_name='Group2')\n",
    "\n",
    "# split Classes column into 3 columns into Existence, Property, Executive\n",
    "original_excel_df[['Existence', 'Property', 'Executive']] = original_excel_df['Classes'].str.split(' ', expand=True)\n",
    "\n",
    "# convert True/False to labels\n",
    "original_excel_df['Existence'] = original_excel_df['Existence'].map({'True': 'Existence', 'False': 'None'})\n",
    "original_excel_df['Property'] = original_excel_df['Property'].map({'True': 'Property', 'False': 'None'})\n",
    "original_excel_df['Executive'] = original_excel_df['Executive'].map({'True': 'Executive', 'False': 'None'})\n",
    "\n",
    "original_excel_df.head(3)\n"
   ]
  },
  {
   "cell_type": "code",
   "execution_count": 8,
   "metadata": {},
   "outputs": [],
   "source": [
    "df = df.merge(original_excel_df[['Key', 'Existence', 'Property', 'Executive']], left_on='issue', right_on='Key', how='left')\n",
    "df = df.drop(columns=['Key'])"
   ]
  },
  {
   "cell_type": "code",
   "execution_count": 9,
   "metadata": {},
   "outputs": [
    {
     "data": {
      "text/html": [
       "<div>\n",
       "<style scoped>\n",
       "    .dataframe tbody tr th:only-of-type {\n",
       "        vertical-align: middle;\n",
       "    }\n",
       "\n",
       "    .dataframe tbody tr th {\n",
       "        vertical-align: top;\n",
       "    }\n",
       "\n",
       "    .dataframe thead th {\n",
       "        text-align: right;\n",
       "    }\n",
       "</style>\n",
       "<table border=\"1\" class=\"dataframe\">\n",
       "  <thead>\n",
       "    <tr style=\"text-align: right;\">\n",
       "      <th></th>\n",
       "      <th>issue</th>\n",
       "      <th>commit_hash</th>\n",
       "      <th>dmm_unit_size</th>\n",
       "      <th>dmm_unit_complexity</th>\n",
       "      <th>dmm_unit_interfacing</th>\n",
       "      <th>added_lines</th>\n",
       "      <th>deleted_lines</th>\n",
       "      <th>added_methods</th>\n",
       "      <th>deleted_method</th>\n",
       "      <th>modified_methods</th>\n",
       "      <th>complexity</th>\n",
       "      <th>filename</th>\n",
       "      <th>Existence</th>\n",
       "      <th>Property</th>\n",
       "      <th>Executive</th>\n",
       "    </tr>\n",
       "  </thead>\n",
       "  <tbody>\n",
       "    <tr>\n",
       "      <th>0</th>\n",
       "      <td>HADOOP-7206</td>\n",
       "      <td>7e1e4bf50fa83083e762fc267b5215d606a64c3e</td>\n",
       "      <td>0.684411</td>\n",
       "      <td>0.684411</td>\n",
       "      <td>0.585551</td>\n",
       "      <td>2</td>\n",
       "      <td>0</td>\n",
       "      <td>0</td>\n",
       "      <td>0</td>\n",
       "      <td>0</td>\n",
       "      <td>0</td>\n",
       "      <td>CHANGES.txt</td>\n",
       "      <td>None</td>\n",
       "      <td>None</td>\n",
       "      <td>Executive</td>\n",
       "    </tr>\n",
       "    <tr>\n",
       "      <th>1</th>\n",
       "      <td>HADOOP-7206</td>\n",
       "      <td>7e1e4bf50fa83083e762fc267b5215d606a64c3e</td>\n",
       "      <td>0.684411</td>\n",
       "      <td>0.684411</td>\n",
       "      <td>0.585551</td>\n",
       "      <td>4</td>\n",
       "      <td>0</td>\n",
       "      <td>0</td>\n",
       "      <td>0</td>\n",
       "      <td>0</td>\n",
       "      <td>0</td>\n",
       "      <td>ivy.xml</td>\n",
       "      <td>None</td>\n",
       "      <td>None</td>\n",
       "      <td>Executive</td>\n",
       "    </tr>\n",
       "    <tr>\n",
       "      <th>2</th>\n",
       "      <td>HADOOP-7206</td>\n",
       "      <td>7e1e4bf50fa83083e762fc267b5215d606a64c3e</td>\n",
       "      <td>0.684411</td>\n",
       "      <td>0.684411</td>\n",
       "      <td>0.585551</td>\n",
       "      <td>5</td>\n",
       "      <td>0</td>\n",
       "      <td>0</td>\n",
       "      <td>0</td>\n",
       "      <td>0</td>\n",
       "      <td>0</td>\n",
       "      <td>hadoop-common-template.xml</td>\n",
       "      <td>None</td>\n",
       "      <td>None</td>\n",
       "      <td>Executive</td>\n",
       "    </tr>\n",
       "  </tbody>\n",
       "</table>\n",
       "</div>"
      ],
      "text/plain": [
       "         issue                               commit_hash  dmm_unit_size  \\\n",
       "0  HADOOP-7206  7e1e4bf50fa83083e762fc267b5215d606a64c3e       0.684411   \n",
       "1  HADOOP-7206  7e1e4bf50fa83083e762fc267b5215d606a64c3e       0.684411   \n",
       "2  HADOOP-7206  7e1e4bf50fa83083e762fc267b5215d606a64c3e       0.684411   \n",
       "\n",
       "   dmm_unit_complexity  dmm_unit_interfacing  added_lines  deleted_lines  \\\n",
       "0             0.684411              0.585551            2              0   \n",
       "1             0.684411              0.585551            4              0   \n",
       "2             0.684411              0.585551            5              0   \n",
       "\n",
       "   added_methods  deleted_method  modified_methods  complexity  \\\n",
       "0              0               0                 0           0   \n",
       "1              0               0                 0           0   \n",
       "2              0               0                 0           0   \n",
       "\n",
       "                     filename Existence Property  Executive  \n",
       "0                 CHANGES.txt      None     None  Executive  \n",
       "1                     ivy.xml      None     None  Executive  \n",
       "2  hadoop-common-template.xml      None     None  Executive  "
      ]
     },
     "execution_count": 9,
     "metadata": {},
     "output_type": "execute_result"
    }
   ],
   "source": [
    "df.head(3)"
   ]
  },
  {
   "cell_type": "code",
   "execution_count": 11,
   "metadata": {},
   "outputs": [],
   "source": [
    "with pd.ExcelWriter('Step4.xlsx', mode='a', if_sheet_exists='overlay') as writer:\n",
    "    df.to_excel(writer, sheet_name='Data', index=False)"
   ]
  },
  {
   "cell_type": "code",
   "execution_count": 95,
   "metadata": {},
   "outputs": [],
   "source": []
  }
 ],
 "metadata": {
  "kernelspec": {
   "display_name": ".venv",
   "language": "python",
   "name": "python3"
  },
  "language_info": {
   "codemirror_mode": {
    "name": "ipython",
    "version": 3
   },
   "file_extension": ".py",
   "mimetype": "text/x-python",
   "name": "python",
   "nbconvert_exporter": "python",
   "pygments_lexer": "ipython3",
   "version": "3.10.11"
  }
 },
 "nbformat": 4,
 "nbformat_minor": 2
}
