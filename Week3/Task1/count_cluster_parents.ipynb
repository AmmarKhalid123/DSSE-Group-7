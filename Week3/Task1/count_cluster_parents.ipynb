{
 "cells": [
  {
   "cell_type": "code",
   "execution_count": 11,
   "metadata": {},
   "outputs": [],
   "source": [
    "import pandas as pd\n",
    "import os\n",
    "import glob\n",
    "import zipfile"
   ]
  },
  {
   "cell_type": "code",
   "execution_count": 12,
   "metadata": {},
   "outputs": [],
   "source": [
    "W3_1_OUTPUT_EXCEL_FILE = 'Week3_1_cluster_count_parents.csv'\n",
    "COMMIT_HASHES = 'E:\\DSSE\\Assignment_1\\Assignment_1_Common\\Week3\\parent_child_mapping.csv'\n",
    "\n",
    "# Read the commit hashes\n",
    "commit_hashes = pd.read_csv(COMMIT_HASHES)\n",
    "commit_hashes = commit_hashes['parent_hashes'].tolist()\n",
    "\n",
    "w3_1_df = pd.DataFrame({\n",
    "    'commit_hash': commit_hashes,\n",
    "    'PKG': 'NA',\n",
    "    'ACDC': 'NA',\n",
    "    'WCA': 'NA',\n",
    "    'WCA higher': 'NA',\n",
    "    'LIMBO': 'NA',\n",
    "    'LIMBO higher': 'NA'\n",
    "})"
   ]
  },
  {
   "cell_type": "code",
   "execution_count": 13,
   "metadata": {},
   "outputs": [],
   "source": [
    "#PKG\n",
    "PKG_FOLDER = 'E:\\DSSE\\Assignment_1\\Assignment_1_Common\\Week3\\PKG_output\\parents_pkg'\n",
    "\n",
    "pkg_files = glob.glob(os.path.join(PKG_FOLDER, '**', '*.rsf'))\n",
    "pkg_data = dict()\n",
    "\n",
    "for file in pkg_files:\n",
    "    splitted_path = file.split('\\\\')\n",
    "    commit_hash = splitted_path[-2]\n",
    "    clusters = splitted_path[-1].split('_')[-2]\n",
    "    pkg_data[commit_hash] = clusters\n",
    "\n",
    "# pkg_data\n",
    "for index, row in w3_1_df.iterrows():\n",
    "    commit_hash = row['commit_hash']\n",
    "    if commit_hash in pkg_data:\n",
    "        w3_1_df.at[index, 'PKG'] = pkg_data[commit_hash]"
   ]
  },
  {
   "cell_type": "code",
   "execution_count": 14,
   "metadata": {},
   "outputs": [],
   "source": [
    "#ACDC"
   ]
  },
  {
   "cell_type": "code",
   "execution_count": 15,
   "metadata": {},
   "outputs": [],
   "source": [
    "#WCA\n",
    "WCA_FOLDER = 'E:\\DSSE\\Assignment_1\\Assignment_1_Common\\WCA_LIMBO\\LIMBO_WCA_Parents\\WCA_parents_UEM'\n",
    "\n",
    "wca_files = glob.glob(os.path.join(WCA_FOLDER, '**', '*clusters.rsf'), recursive=True)\n",
    "\n",
    "wca_data = dict()\n",
    "\n",
    "for file in wca_files:\n",
    "    splitted_path = file.split('\\\\')\n",
    "    commit_hash = splitted_path[-2]\n",
    "    clusters = splitted_path[-1].split('_')[-2]\n",
    "    wca_data[commit_hash] = clusters\n",
    "\n",
    "# wca_data\n",
    "for index, row in w3_1_df.iterrows():\n",
    "    commit_hash = row['commit_hash']\n",
    "    if commit_hash in wca_data:\n",
    "        w3_1_df.at[index, 'WCA'] = wca_data[commit_hash]"
   ]
  },
  {
   "cell_type": "code",
   "execution_count": 16,
   "metadata": {},
   "outputs": [],
   "source": [
    "#WCA Higher\n",
    "WCA_HIGHER_FOLDER = 'E:\\DSSE\\Assignment_1\\Assignment_1_Common\\WCA_LIMBO\\WCA_LIMBO_higher\\parents_rsf_58'\n",
    "\n",
    "wca_higher_files = glob.glob(os.path.join(WCA_HIGHER_FOLDER, '**', '*UEM*clusters.rsf'), recursive=True)\n",
    "\n",
    "wca_higher_data = dict()\n",
    "\n",
    "for file in wca_higher_files:\n",
    "    splitted_path = file.split('\\\\')\n",
    "    commit_hash = splitted_path[-4]\n",
    "    clusters = splitted_path[-1].split('_')[-2]\n",
    "    wca_higher_data[commit_hash] = clusters\n",
    "\n",
    "# wca_higher_data\n",
    "for index, row in w3_1_df.iterrows():\n",
    "    commit_hash = row['commit_hash']\n",
    "    if commit_hash in wca_higher_data:\n",
    "        w3_1_df.at[index, 'WCA higher'] = wca_higher_data[commit_hash]"
   ]
  },
  {
   "cell_type": "code",
   "execution_count": 17,
   "metadata": {},
   "outputs": [],
   "source": [
    "#LIMBO\n",
    "LIMBO_FOLDER = 'E:\\DSSE\\Assignment_1\\Assignment_1_Common\\WCA_LIMBO\\LIMBO_WCA_Parents\\LIMBO_parents_RSF'\n",
    "\n",
    "limbo_files = glob.glob(os.path.join(LIMBO_FOLDER, '**', '*clusters.rsf'), recursive=True)\n",
    "\n",
    "limbo_data = dict()\n",
    "\n",
    "for file in limbo_files:\n",
    "    splitted_path = file.split('\\\\')\n",
    "    commit_hash = splitted_path[-2]\n",
    "    clusters = splitted_path[-1].split('_')[-2]\n",
    "    limbo_data[commit_hash] = clusters\n",
    "\n",
    "# limbo_data\n",
    "for index, row in w3_1_df.iterrows():\n",
    "    commit_hash = row['commit_hash']\n",
    "    if commit_hash in limbo_data:\n",
    "        w3_1_df.at[index, 'LIMBO'] = limbo_data[commit_hash]"
   ]
  },
  {
   "cell_type": "code",
   "execution_count": 18,
   "metadata": {},
   "outputs": [],
   "source": [
    "#LIMBO Higher\n",
    "LIMBO_HIGHER_FOLDER = 'E:\\DSSE\\Assignment_1\\Assignment_1_Common\\WCA_LIMBO\\WCA_LIMBO_higher\\parents_rsf_58'\n",
    "\n",
    "limbo_higher_files = glob.glob(os.path.join(LIMBO_HIGHER_FOLDER, '**', '*IL*clusters.rsf'), recursive=True)\n",
    "\n",
    "limbo_higher_data = dict()\n",
    "\n",
    "for file in limbo_higher_files:\n",
    "    splitted_path = file.split('\\\\')\n",
    "    commit_hash = splitted_path[-4]\n",
    "    clusters = splitted_path[-1].split('_')[-2]\n",
    "    limbo_higher_data[commit_hash] = clusters\n",
    "\n",
    "# limbo_higher_data\n",
    "for index, row in w3_1_df.iterrows():\n",
    "    commit_hash = row['commit_hash']\n",
    "    if commit_hash in limbo_higher_data:\n",
    "        w3_1_df.at[index, 'LIMBO higher'] = limbo_higher_data[commit_hash]"
   ]
  },
  {
   "cell_type": "code",
   "execution_count": 19,
   "metadata": {},
   "outputs": [],
   "source": [
    "# Save the output\n",
    "w3_1_df.to_csv(W3_1_OUTPUT_EXCEL_FILE, index=False)"
   ]
  }
 ],
 "metadata": {
  "kernelspec": {
   "display_name": ".venv",
   "language": "python",
   "name": "python3"
  },
  "language_info": {
   "codemirror_mode": {
    "name": "ipython",
    "version": 3
   },
   "file_extension": ".py",
   "mimetype": "text/x-python",
   "name": "python",
   "nbconvert_exporter": "python",
   "pygments_lexer": "ipython3",
   "version": "3.10.11"
  }
 },
 "nbformat": 4,
 "nbformat_minor": 2
}
