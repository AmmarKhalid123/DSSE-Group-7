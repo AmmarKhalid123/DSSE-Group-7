{
 "cells": [
  {
   "cell_type": "code",
   "execution_count": 1,
   "metadata": {},
   "outputs": [],
   "source": [
    "import pandas as pd\n",
    "import glob\n",
    "import os\n",
    "import json"
   ]
  },
  {
   "cell_type": "code",
   "execution_count": 2,
   "metadata": {},
   "outputs": [],
   "source": [
    "OUTPUT_FOLDER = 'E:\\DSSE\\Assignment_1\\Assignment_1_Common\\Week3\\Week3_Task2_output'"
   ]
  },
  {
   "cell_type": "code",
   "execution_count": 3,
   "metadata": {},
   "outputs": [],
   "source": [
    "# for WCA and LIMBO\n",
    "def count_cluster_item(file_path):\n",
    "    clusters = dict()\n",
    "    with open(file_path, 'r') as f:\n",
    "        lines = f.readlines()\n",
    "        for line in lines:\n",
    "            cluster = line.split(' ')[1]\n",
    "            if cluster.isdigit():\n",
    "                clusters[cluster] = clusters.get(cluster, 0) + 1\n",
    "    return clusters\n",
    "        "
   ]
  },
  {
   "cell_type": "code",
   "execution_count": 4,
   "metadata": {},
   "outputs": [],
   "source": [
    "# for PKG and ACDC\n",
    "from collections import defaultdict\n",
    "def get_clusters(file):\n",
    "    clusters = defaultdict(list)\n",
    "    with open(file, 'r') as f:\n",
    "        lines = f.readlines()\n",
    "        for line in lines:\n",
    "            data = line.split(' ')\n",
    "            clusters[data[1]].append(data[2])\n",
    "\n",
    "    for cluster in clusters:\n",
    "        clusters[cluster] = len(set(clusters[cluster]))\n",
    "    return clusters"
   ]
  },
  {
   "cell_type": "code",
   "execution_count": 5,
   "metadata": {},
   "outputs": [],
   "source": [
    "#PKG\n",
    "PKG_FOLDER = 'E:\\DSSE\\Assignment_1\\Assignment_1_Common\\Week3\\PKG_output\\parents_pkg'\n",
    "\n",
    "pkg_files = glob.glob(os.path.join(PKG_FOLDER, '**', '*.rsf'))\n",
    "pkg_data = dict()\n",
    "\n",
    "for file in pkg_files:\n",
    "    splitted_path = file.split('\\\\')\n",
    "    commit_hash = splitted_path[-2]\n",
    "    clusters = get_clusters(file)\n",
    "    pkg_data[commit_hash] = clusters\n",
    "\n",
    "pkg_data = json.dumps(pkg_data, indent=4)\n",
    "with open(os.path.join(OUTPUT_FOLDER, 'parent_PKG_data.json'), 'w') as f:\n",
    "    f.write(pkg_data)"
   ]
  },
  {
   "cell_type": "code",
   "execution_count": 6,
   "metadata": {},
   "outputs": [],
   "source": [
    "#ACDC\n",
    "ACDC_FOLDER = 'E:\\DSSE\\Assignment_1\\Assignment_1_Common\\Week3\\ACDC_output\\parents ACDC'\n",
    "\n",
    "acdc_files = glob.glob(os.path.join(ACDC_FOLDER, '**', '*ACDC.rsf'))\n",
    "acdc_data = dict()\n",
    "\n",
    "for file in acdc_files:\n",
    "    splitted_path = file.split('\\\\')\n",
    "    commit_hash = splitted_path[-2]\n",
    "    clusters = get_clusters(file)\n",
    "    acdc_data[commit_hash] = clusters\n",
    "\n",
    "acdc_data = json.dumps(acdc_data, indent=4)\n",
    "with open(os.path.join(OUTPUT_FOLDER, 'parent_ACDC_data.json'), 'w') as f:\n",
    "    f.write(acdc_data)"
   ]
  },
  {
   "cell_type": "code",
   "execution_count": 7,
   "metadata": {},
   "outputs": [],
   "source": [
    "#LIMBO\n",
    "LIMBO_FOLDER = 'E:\\DSSE\\Assignment_1\\Assignment_1_Common\\WCA_LIMBO\\LIMBO_WCA_Parents\\LIMBO_parents_RSF'\n",
    "\n",
    "limbo_files = glob.glob(os.path.join(LIMBO_FOLDER, '**', '*clusters.rsf'), recursive=True)\n",
    "limbo_data = dict()\n",
    "\n",
    "for file in limbo_files:\n",
    "    clusters = count_cluster_item(file)\n",
    "    commit_hash = file.split('\\\\')[-2]\n",
    "    limbo_data[commit_hash] = clusters\n",
    "\n",
    "limbo_data = json.dumps(limbo_data, indent=4)\n",
    "with open(os.path.join(OUTPUT_FOLDER, 'parent_limbo_data.json'), 'w') as f:\n",
    "    f.write(limbo_data)"
   ]
  },
  {
   "cell_type": "code",
   "execution_count": 8,
   "metadata": {},
   "outputs": [],
   "source": [
    "#LIMBO Higher\n",
    "LIMBO_HIGHER_FOLDER = 'E:\\DSSE\\Assignment_1\\Assignment_1_Common\\WCA_LIMBO\\WCA_LIMBO_higher\\parents_rsf_58'\n",
    "\n",
    "limbo_higher_files = glob.glob(os.path.join(LIMBO_HIGHER_FOLDER, '**', '*IL*clusters.rsf'), recursive=True)\n",
    "limbo_higher_data = dict()\n",
    "\n",
    "for file in limbo_higher_files:\n",
    "    clusters = count_cluster_item(file)\n",
    "    commit_hash = file.split('\\\\')[-4]\n",
    "    limbo_higher_data[commit_hash] = clusters\n",
    "\n",
    "limbo_higher_data = json.dumps(limbo_higher_data, indent=4)\n",
    "with open(os.path.join(OUTPUT_FOLDER, 'parent_limbo_higher_data.json'), 'w') as f:\n",
    "    f.write(limbo_higher_data)\n"
   ]
  },
  {
   "cell_type": "code",
   "execution_count": 9,
   "metadata": {},
   "outputs": [],
   "source": [
    "# WCA\n",
    "CASES = ['UEM', 'UEMNM']\n",
    "\n",
    "for case in CASES:\n",
    "    WCA_FOLDER = f'E:\\DSSE\\Assignment_1\\Assignment_1_Common\\WCA_LIMBO\\LIMBO_WCA_Parents\\WCA_parents_{case}'\n",
    "    wca_files = glob.glob(os.path.join(WCA_FOLDER, '**', f'*{case}*clusters.rsf'), recursive=True)\n",
    "    wca_data = dict()\n",
    "\n",
    "    for file in wca_files:\n",
    "        clusters = count_cluster_item(file)\n",
    "        commit_hash = file.split('\\\\')[-2]\n",
    "        wca_data[commit_hash] = clusters\n",
    "\n",
    "    wca_data = json.dumps(wca_data, indent=4)\n",
    "    with open(os.path.join(OUTPUT_FOLDER, f'parent_wca_{case}_data.json'), 'w') as f:\n",
    "        f.write(wca_data)"
   ]
  },
  {
   "cell_type": "code",
   "execution_count": 10,
   "metadata": {},
   "outputs": [],
   "source": [
    "# WCA Higher\n",
    "WCA_HIGHER_FOLDER = 'E:\\DSSE\\Assignment_1\\Assignment_1_Common\\WCA_LIMBO\\WCA_LIMBO_higher\\parents_rsf_58'\n",
    "CASES = ['UEM', 'UEMNM']\n",
    "\n",
    "for case in CASES:\n",
    "    wca_higher_files = glob.glob(os.path.join(WCA_HIGHER_FOLDER, '**', f'*{case}*clusters.rsf'), recursive=True)\n",
    "    wca_higher_data = dict()\n",
    "\n",
    "    for file in wca_higher_files:\n",
    "        clusters = count_cluster_item(file)\n",
    "        commit_hash = file.split('\\\\')[-4]\n",
    "        wca_higher_data[commit_hash] = clusters\n",
    "\n",
    "    wca_higher_data = json.dumps(wca_higher_data, indent=4)\n",
    "    with open(os.path.join(OUTPUT_FOLDER, f'parent_wca_{case}_higher_data.json'), 'w') as f:\n",
    "        f.write(wca_higher_data)"
   ]
  }
 ],
 "metadata": {
  "kernelspec": {
   "display_name": ".venv",
   "language": "python",
   "name": "python3"
  },
  "language_info": {
   "codemirror_mode": {
    "name": "ipython",
    "version": 3
   },
   "file_extension": ".py",
   "mimetype": "text/x-python",
   "name": "python",
   "nbconvert_exporter": "python",
   "pygments_lexer": "ipython3",
   "version": "3.10.11"
  }
 },
 "nbformat": 4,
 "nbformat_minor": 2
}
